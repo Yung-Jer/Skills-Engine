{
 "cells": [
  {
   "attachments": {},
   "cell_type": "markdown",
   "metadata": {},
   "source": [
    "# Importing Libraries"
   ]
  },
  {
   "cell_type": "code",
   "execution_count": 2,
   "metadata": {},
   "outputs": [],
   "source": [
    "import pandas as pd\n",
    "import numpy as np\n",
    "import pickle"
   ]
  },
  {
   "attachments": {},
   "cell_type": "markdown",
   "metadata": {},
   "source": [
    "# Load Dictionaries to Compare Differences"
   ]
  },
  {
   "cell_type": "code",
   "execution_count": 3,
   "metadata": {},
   "outputs": [],
   "source": [
    "with open('resume_skills.pkl', 'rb') as pickle_file:\n",
    "    skills = pickle.load(pickle_file)\n",
    "\n",
    "with open('resume_skills_required.pkl', 'rb') as pickle_file:\n",
    "    skills_required = pickle.load(pickle_file)"
   ]
  },
  {
   "cell_type": "code",
   "execution_count": 4,
   "metadata": {},
   "outputs": [
    {
     "data": {
      "text/plain": [
       "{'inventory management': 5,\n",
       " 'warehouse': 2,\n",
       " 'management': 5,\n",
       " 'logistics': 5,\n",
       " 'technical support': 5,\n",
       " 'active directory': 5,\n",
       " 'troubleshooting': 5,\n",
       " 'aviation': 5,\n",
       " 'software installation': 5,\n",
       " 'marshalling': 5,\n",
       " 'problem solving': 5,\n",
       " 'safe': 5,\n",
       " 'information technology': 5,\n",
       " 'research': 5,\n",
       " 'customer service': 5,\n",
       " 'installation': 5,\n",
       " 'computer repair': 1,\n",
       " 'team oriented': 1,\n",
       " 'repair': 1,\n",
       " 'software maintenance': 1,\n",
       " 'profile': 1,\n",
       " 'military service': 1,\n",
       " 'peripheral devices': 1,\n",
       " 'android': 1,\n",
       " 'research experience': 1,\n",
       " 'malware detection': 1,\n",
       " 'level': 1}"
      ]
     },
     "execution_count": 4,
     "metadata": {},
     "output_type": "execute_result"
    }
   ],
   "source": [
    "skills[31605080]"
   ]
  },
  {
   "cell_type": "code",
   "execution_count": 5,
   "metadata": {},
   "outputs": [
    {
     "data": {
      "text/plain": [
       "{'aircraft maintenance': 3,\n",
       " 'ammunition': 3,\n",
       " 'aviation': 5,\n",
       " 'b': 3,\n",
       " 'budget': 3,\n",
       " 'business administration': 3,\n",
       " 'c': 3,\n",
       " 'communication': 4,\n",
       " 'communications': 3,\n",
       " 'control systems': 3,\n",
       " 'coordinate': 3,\n",
       " 'coordinating': 3,\n",
       " 'critical thinking': 3,\n",
       " 'customer service': 4,\n",
       " 'data entry': 3,\n",
       " 'electronic': 3,\n",
       " 'electronics': 3,\n",
       " 'filing': 3,\n",
       " 'hydraulic': 3,\n",
       " 'installation': 3,\n",
       " 'inventory control': 3,\n",
       " 'inventory management': 3,\n",
       " 'leadership': 4,\n",
       " 'level': 4,\n",
       " 'license': 3,\n",
       " 'logistics': 4,\n",
       " 'm': 3,\n",
       " 'machine': 3,\n",
       " 'management': 5,\n",
       " 'marketing': 3,\n",
       " 'mechanic': 3,\n",
       " 'merchandise': 3,\n",
       " 'microsoft office': 3,\n",
       " 'operation': 4,\n",
       " 'operations': 4,\n",
       " 'paperwork': 3,\n",
       " 'plan': 3,\n",
       " 'planning': 4,\n",
       " 'presentations': 3,\n",
       " 'problem solving': 3,\n",
       " 'process improvement': 3,\n",
       " 'procurement': 3,\n",
       " 'profile': 3,\n",
       " 'project management': 3,\n",
       " 'purchase': 3,\n",
       " 'purchasing': 3,\n",
       " 'quality assurance': 3,\n",
       " 'quality control': 3,\n",
       " 'r': 3,\n",
       " 'reduction': 3,\n",
       " 'repair': 4,\n",
       " 'research': 3,\n",
       " 'resource': 3,\n",
       " 'safe': 3,\n",
       " 'safety training': 3,\n",
       " 'sales': 3,\n",
       " 'scheduling': 3,\n",
       " 'security': 4,\n",
       " 'security clearance': 3,\n",
       " 'spreadsheets': 3,\n",
       " 'stock': 3,\n",
       " 'storage': 3,\n",
       " 'supervision': 3,\n",
       " 'test equipment': 3,\n",
       " 'time management': 3,\n",
       " 'tool': 3,\n",
       " 'track': 3,\n",
       " 'tracking': 3,\n",
       " 'troubleshooting': 4,\n",
       " 'warehouse': 3,\n",
       " 'writing': 3}"
      ]
     },
     "execution_count": 5,
     "metadata": {},
     "output_type": "execute_result"
    }
   ],
   "source": [
    "skills_required['AVIATION']"
   ]
  },
  {
   "attachments": {},
   "cell_type": "markdown",
   "metadata": {},
   "source": [
    "# Identify Skill Gap"
   ]
  },
  {
   "attachments": {},
   "cell_type": "markdown",
   "metadata": {},
   "source": [
    "This skill gap identification is to compare the applicant's skillset with the most ideal peers' skillset.  \n",
    "\n",
    "<!-- We have 5 level of recommendation based on the skill level you have:\n",
    " - Good to have\n",
    " - Recommended (level 3 -> level 4)\n",
    " - Strongly Recommended(level 4 -> level 5)\n",
    " - Critical (level 3 -> level 5)\n",
    " - Fulfilled -->\n",
    "\n",
    "For each skill, we will be tagging which competency levels he needs to continue pursuing.  \n",
    "E.g. software engineering: [3, 4] "
   ]
  },
  {
   "cell_type": "code",
   "execution_count": 6,
   "metadata": {},
   "outputs": [],
   "source": [
    "# Map years of experience to competency level\n",
    "def resume_level_deduction(years):\n",
    "  if years <= 2:\n",
    "    return 3\n",
    "  elif years <= 5:\n",
    "    return 4\n",
    "  else:\n",
    "    return 5\n",
    "  \n",
    "def skill_gap_identification_peers(skills, skills_required):\n",
    "    diff = {}\n",
    "    for key in skills_required:\n",
    "        if key not in skills:\n",
    "            diff[key] = [x for x in range(3, skills_required[key] + 1)]\n",
    "        elif resume_level_deduction(skills[key]) < skills_required[key]:\n",
    "            diff[key] = [x for x in range(resume_level_deduction(skills[key]), skills_required[key] + 1)]\n",
    "    return diff"
   ]
  },
  {
   "cell_type": "code",
   "execution_count": 7,
   "metadata": {},
   "outputs": [
    {
     "data": {
      "text/plain": [
       "{'aircraft maintenance': [3],\n",
       " 'ammunition': [3],\n",
       " 'aviation': [4, 5],\n",
       " 'b': [3],\n",
       " 'budget': [3],\n",
       " 'business administration': [3],\n",
       " 'c': [3],\n",
       " 'communication': [3, 4],\n",
       " 'communications': [3],\n",
       " 'control systems': [3],\n",
       " 'coordinate': [3],\n",
       " 'coordinating': [3],\n",
       " 'critical thinking': [3],\n",
       " 'data entry': [3],\n",
       " 'electronic': [3],\n",
       " 'electronics': [3],\n",
       " 'filing': [3],\n",
       " 'hydraulic': [3],\n",
       " 'inventory control': [3],\n",
       " 'leadership': [3, 4],\n",
       " 'level': [3, 4],\n",
       " 'license': [3],\n",
       " 'm': [3],\n",
       " 'machine': [3],\n",
       " 'management': [4, 5],\n",
       " 'marketing': [3],\n",
       " 'mechanic': [3],\n",
       " 'merchandise': [3],\n",
       " 'microsoft office': [3],\n",
       " 'operation': [3, 4],\n",
       " 'operations': [3, 4],\n",
       " 'paperwork': [3],\n",
       " 'plan': [3],\n",
       " 'planning': [3, 4],\n",
       " 'presentations': [3],\n",
       " 'process improvement': [3],\n",
       " 'procurement': [3],\n",
       " 'project management': [3],\n",
       " 'purchase': [3],\n",
       " 'purchasing': [3],\n",
       " 'quality assurance': [3],\n",
       " 'quality control': [3],\n",
       " 'r': [3],\n",
       " 'reduction': [3],\n",
       " 'repair': [3, 4],\n",
       " 'resource': [3],\n",
       " 'safety training': [3],\n",
       " 'sales': [3],\n",
       " 'scheduling': [3],\n",
       " 'security': [3, 4],\n",
       " 'security clearance': [3],\n",
       " 'spreadsheets': [3],\n",
       " 'stock': [3],\n",
       " 'storage': [3],\n",
       " 'supervision': [3],\n",
       " 'test equipment': [3],\n",
       " 'time management': [3],\n",
       " 'tool': [3],\n",
       " 'track': [3],\n",
       " 'tracking': [3],\n",
       " 'writing': [3]}"
      ]
     },
     "execution_count": 7,
     "metadata": {},
     "output_type": "execute_result"
    }
   ],
   "source": [
    "skill_gap_identification_peers(skills[31605080], skills_required['AVIATION'])"
   ]
  }
 ],
 "metadata": {
  "kernelspec": {
   "display_name": "Python 3",
   "language": "python",
   "name": "python3"
  },
  "language_info": {
   "codemirror_mode": {
    "name": "ipython",
    "version": 3
   },
   "file_extension": ".py",
   "mimetype": "text/x-python",
   "name": "python",
   "nbconvert_exporter": "python",
   "pygments_lexer": "ipython3",
   "version": "3.10.8"
  },
  "orig_nbformat": 4,
  "vscode": {
   "interpreter": {
    "hash": "c64ed8c669f425495e1d5a2fc914d4b3fc5bfa5a9e06f8663c5733f83a88b100"
   }
  }
 },
 "nbformat": 4,
 "nbformat_minor": 2
}
