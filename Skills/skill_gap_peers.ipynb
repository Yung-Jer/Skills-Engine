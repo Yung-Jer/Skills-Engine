{
 "cells": [
  {
   "attachments": {},
   "cell_type": "markdown",
   "metadata": {},
   "source": [
    "# Importing Libraries"
   ]
  },
  {
   "cell_type": "code",
   "execution_count": 15,
   "metadata": {},
   "outputs": [],
   "source": [
    "import pandas as pd\n",
    "import numpy as np\n",
    "from sklearn.cluster import KMeans\n",
    "from sklearn.model_selection import StratifiedKFold\n",
    "from imblearn.over_sampling import SMOTE\n",
    "from collections import Counter\n",
    "from sklearn.svm import SVC\n",
    "from sklearn.multiclass import OneVsRestClassifier\n",
    "import matplotlib.pyplot as plt\n",
    "from sklearn.metrics import confusion_matrix, ConfusionMatrixDisplay\n",
    "import pickle"
   ]
  },
  {
   "attachments": {},
   "cell_type": "markdown",
   "metadata": {},
   "source": [
    "# Load Dictionaries to Compare Differences"
   ]
  },
  {
   "cell_type": "code",
   "execution_count": 16,
   "metadata": {},
   "outputs": [],
   "source": [
    "with open('skills.pkl', 'rb') as pickle_file:\n",
    "    skills = pickle.load(pickle_file)\n",
    "\n",
    "with open('skills_required.pkl', 'rb') as pickle_file:\n",
    "    skills_required = pickle.load(pickle_file)"
   ]
  },
  {
   "cell_type": "code",
   "execution_count": 17,
   "metadata": {},
   "outputs": [
    {
     "data": {
      "text/plain": [
       "{'management': 5,\n",
       " 'inventory management': 5,\n",
       " 'installation': 5,\n",
       " 'troubleshooting': 5,\n",
       " 'logistics': 5,\n",
       " 'customer service': 5,\n",
       " 'marshalling': 5,\n",
       " 'software installation': 5,\n",
       " 'active directory': 5,\n",
       " 'technical support': 5,\n",
       " 'aviation': 5,\n",
       " 'information technology': 5,\n",
       " 'research': 5,\n",
       " 'computer repair': 1,\n",
       " 'software maintenance': 1,\n",
       " 'android': 1,\n",
       " 'malware detection': 1}"
      ]
     },
     "execution_count": 17,
     "metadata": {},
     "output_type": "execute_result"
    }
   ],
   "source": [
    "skills[31605080]"
   ]
  },
  {
   "cell_type": "code",
   "execution_count": 18,
   "metadata": {},
   "outputs": [
    {
     "data": {
      "text/plain": [
       "{'aircraft maintenance': 3,\n",
       " 'aviation': 5,\n",
       " 'b': 3,\n",
       " 'business administration': 3,\n",
       " 'c': 3,\n",
       " 'construction': 3,\n",
       " 'critical thinking': 3,\n",
       " 'customer service': 4,\n",
       " 'drawing': 3,\n",
       " 'filing': 3,\n",
       " 'inquiry': 3,\n",
       " 'installation': 3,\n",
       " 'inventory control': 3,\n",
       " 'inventory management': 3,\n",
       " 'investigation': 3,\n",
       " 'leadership': 4,\n",
       " 'logistics': 3,\n",
       " 'm': 3,\n",
       " 'management': 5,\n",
       " 'marketing': 3,\n",
       " 'microsoft office': 3,\n",
       " 'microsoft word': 3,\n",
       " 'negotiation': 3,\n",
       " 'planning': 4,\n",
       " 'process improvement': 3,\n",
       " 'procurement': 3,\n",
       " 'project management': 3,\n",
       " 'purchasing': 3,\n",
       " 'quality assurance': 3,\n",
       " 'quality control': 3,\n",
       " 'r': 3,\n",
       " 'reduction': 3,\n",
       " 'requisition': 3,\n",
       " 'research': 4,\n",
       " 'safety training': 3,\n",
       " 'scheduling': 3,\n",
       " 'security clearance': 3,\n",
       " 'source': 3,\n",
       " 'supervision': 3,\n",
       " 'test equipment': 3,\n",
       " 'time management': 3,\n",
       " 'track': 4,\n",
       " 'tracking': 3,\n",
       " 'troubleshooting': 3}"
      ]
     },
     "execution_count": 18,
     "metadata": {},
     "output_type": "execute_result"
    }
   ],
   "source": [
    "skills_required['AVIATION']"
   ]
  },
  {
   "attachments": {},
   "cell_type": "markdown",
   "metadata": {},
   "source": [
    "# Identify Skill Gap"
   ]
  },
  {
   "attachments": {},
   "cell_type": "markdown",
   "metadata": {},
   "source": [
    "This skill gap identification is to compare the applicant's skillset with the most ideal peers' skillset.  \n",
    "\n",
    "<!-- We have 5 level of recommendation based on the skill level you have:\n",
    " - Good to have\n",
    " - Recommended (level 3 -> level 4)\n",
    " - Strongly Recommended(level 4 -> level 5)\n",
    " - Critical (level 3 -> level 5)\n",
    " - Fulfilled -->\n",
    "\n",
    "For each skill, we will be tagging which competency levels he needs to continue pursuing.  \n",
    "E.g. software engineering: [3, 4] "
   ]
  },
  {
   "cell_type": "code",
   "execution_count": 19,
   "metadata": {},
   "outputs": [],
   "source": [
    "def skill_gap_identification_peers(skills, skills_required):\n",
    "    diff = {}\n",
    "    for key in skills_required:\n",
    "        if key not in skills:\n",
    "            diff[key] = [x for x in range(3, skills_required[key] + 1)]\n",
    "        elif skills[key] < skills_required[key]:\n",
    "            diff[key] = [x for x in range(skills[key], skills_required[key] + 1)]\n",
    "    return diff"
   ]
  },
  {
   "cell_type": "code",
   "execution_count": 20,
   "metadata": {},
   "outputs": [
    {
     "data": {
      "text/plain": [
       "{'aircraft maintenance': [3],\n",
       " 'b': [3],\n",
       " 'business administration': [3],\n",
       " 'c': [3],\n",
       " 'construction': [3],\n",
       " 'critical thinking': [3],\n",
       " 'drawing': [3],\n",
       " 'filing': [3],\n",
       " 'inquiry': [3],\n",
       " 'inventory control': [3],\n",
       " 'investigation': [3],\n",
       " 'leadership': [3, 4],\n",
       " 'm': [3],\n",
       " 'marketing': [3],\n",
       " 'microsoft office': [3],\n",
       " 'microsoft word': [3],\n",
       " 'negotiation': [3],\n",
       " 'planning': [3, 4],\n",
       " 'process improvement': [3],\n",
       " 'procurement': [3],\n",
       " 'project management': [3],\n",
       " 'purchasing': [3],\n",
       " 'quality assurance': [3],\n",
       " 'quality control': [3],\n",
       " 'r': [3],\n",
       " 'reduction': [3],\n",
       " 'requisition': [3],\n",
       " 'safety training': [3],\n",
       " 'scheduling': [3],\n",
       " 'security clearance': [3],\n",
       " 'source': [3],\n",
       " 'supervision': [3],\n",
       " 'test equipment': [3],\n",
       " 'time management': [3],\n",
       " 'track': [3, 4],\n",
       " 'tracking': [3]}"
      ]
     },
     "execution_count": 20,
     "metadata": {},
     "output_type": "execute_result"
    }
   ],
   "source": [
    "skill_gap_identification_peers(skills[31605080], skills_required['AVIATION'])"
   ]
  }
 ],
 "metadata": {
  "kernelspec": {
   "display_name": "Python 3",
   "language": "python",
   "name": "python3"
  },
  "language_info": {
   "codemirror_mode": {
    "name": "ipython",
    "version": 3
   },
   "file_extension": ".py",
   "mimetype": "text/x-python",
   "name": "python",
   "nbconvert_exporter": "python",
   "pygments_lexer": "ipython3",
   "version": "3.10.8"
  },
  "orig_nbformat": 4,
  "vscode": {
   "interpreter": {
    "hash": "c64ed8c669f425495e1d5a2fc914d4b3fc5bfa5a9e06f8663c5733f83a88b100"
   }
  }
 },
 "nbformat": 4,
 "nbformat_minor": 2
}
