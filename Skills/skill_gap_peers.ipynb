{
 "cells": [
  {
   "attachments": {},
   "cell_type": "markdown",
   "metadata": {},
   "source": [
    "# Importing Libraries"
   ]
  },
  {
   "cell_type": "code",
   "execution_count": 1,
   "metadata": {},
   "outputs": [],
   "source": [
    "import pandas as pd\n",
    "import numpy as np\n",
    "from sklearn.cluster import KMeans\n",
    "from sklearn.model_selection import StratifiedKFold\n",
    "from imblearn.over_sampling import SMOTE\n",
    "from collections import Counter\n",
    "from sklearn.svm import SVC\n",
    "from sklearn.multiclass import OneVsRestClassifier\n",
    "import matplotlib.pyplot as plt\n",
    "from sklearn.metrics import confusion_matrix, ConfusionMatrixDisplay\n",
    "import pickle"
   ]
  },
  {
   "attachments": {},
   "cell_type": "markdown",
   "metadata": {},
   "source": [
    "# Load Dictionaries to Compare Differences"
   ]
  },
  {
   "cell_type": "code",
   "execution_count": 5,
   "metadata": {},
   "outputs": [],
   "source": [
    "with open('skills.pkl', 'rb') as pickle_file:\n",
    "    skills = pickle.load(pickle_file)\n",
    "\n",
    "with open('skills_required.pkl', 'rb') as pickle_file:\n",
    "    skills_required = pickle.load(pickle_file)"
   ]
  },
  {
   "cell_type": "code",
   "execution_count": 6,
   "metadata": {},
   "outputs": [
    {
     "data": {
      "text/plain": [
       "{'management': 5,\n",
       " 'inventory management': 5,\n",
       " 'installation': 5,\n",
       " 'troubleshooting': 5,\n",
       " 'logistics': 5,\n",
       " 'customer service': 5,\n",
       " 'marshalling': 5,\n",
       " 'software installation': 5,\n",
       " 'active directory': 5,\n",
       " 'technical support': 5,\n",
       " 'aviation': 5,\n",
       " 'information technology': 5,\n",
       " 'research': 5,\n",
       " 'computer repair': 1,\n",
       " 'software maintenance': 1,\n",
       " 'android': 1,\n",
       " 'malware detection': 1}"
      ]
     },
     "execution_count": 6,
     "metadata": {},
     "output_type": "execute_result"
    }
   ],
   "source": [
    "skills[31605080]"
   ]
  },
  {
   "cell_type": "code",
   "execution_count": 7,
   "metadata": {},
   "outputs": [
    {
     "data": {
      "text/plain": [
       "{'aircraft maintenance': 3,\n",
       " 'aviation': 5,\n",
       " 'b': 3,\n",
       " 'business administration': 3,\n",
       " 'c': 3,\n",
       " 'construction': 3,\n",
       " 'critical thinking': 3,\n",
       " 'customer service': 4,\n",
       " 'drawing': 3,\n",
       " 'filing': 3,\n",
       " 'inquiry': 3,\n",
       " 'installation': 3,\n",
       " 'inventory control': 3,\n",
       " 'inventory management': 3,\n",
       " 'investigation': 3,\n",
       " 'leadership': 4,\n",
       " 'logistics': 3,\n",
       " 'm': 3,\n",
       " 'management': 5,\n",
       " 'marketing': 3,\n",
       " 'microsoft office': 3,\n",
       " 'microsoft word': 3,\n",
       " 'negotiation': 3,\n",
       " 'planning': 4,\n",
       " 'process improvement': 3,\n",
       " 'procurement': 3,\n",
       " 'project management': 3,\n",
       " 'purchasing': 3,\n",
       " 'quality assurance': 3,\n",
       " 'quality control': 3,\n",
       " 'r': 3,\n",
       " 'reduction': 3,\n",
       " 'requisition': 3,\n",
       " 'research': 4,\n",
       " 'safety training': 3,\n",
       " 'scheduling': 3,\n",
       " 'security clearance': 3,\n",
       " 'source': 3,\n",
       " 'supervision': 3,\n",
       " 'test equipment': 3,\n",
       " 'time management': 3,\n",
       " 'track': 4,\n",
       " 'tracking': 3,\n",
       " 'troubleshooting': 3}"
      ]
     },
     "execution_count": 7,
     "metadata": {},
     "output_type": "execute_result"
    }
   ],
   "source": [
    "skills_required['AVIATION']"
   ]
  },
  {
   "attachments": {},
   "cell_type": "markdown",
   "metadata": {},
   "source": [
    "# Identify Skill Gap"
   ]
  },
  {
   "attachments": {},
   "cell_type": "markdown",
   "metadata": {},
   "source": [
    "This skill gap identification is to compare the applicant's skillset with the most ideal peers' skillset.  \n",
    "\n",
    "We have 5 level of recommendation based on the skill level you have:\n",
    " - Good to have\n",
    " - Recommended (level 3 -> level 4)\n",
    " - Strongly Recommended(level 4 -> level 5)\n",
    " - Critical (level 3 -> level 5)\n",
    " - Fulfilled"
   ]
  },
  {
   "cell_type": "code",
   "execution_count": 11,
   "metadata": {},
   "outputs": [],
   "source": [
    "def skill_gap_identification_peers(skills, skills_required):\n",
    "    diff = {'good to have': set(), 'recommended': set(), 'strongly recommended': set(), 'critical': set(), 'fulfilled': set()}\n",
    "    for key in skills_required:\n",
    "        if key not in skills:\n",
    "            diff['good to have'].add(key)\n",
    "        elif skills[key] >= skills_required[key]:\n",
    "            diff['fulfilled'].add(key)\n",
    "        elif skills_required[key] - skills[key] == 2:\n",
    "            diff['critical'].add(key)\n",
    "        elif skills_required[key] == 5:\n",
    "            diff['strongly recommended'].add(key)\n",
    "        else:\n",
    "            diff['recommended'].add(key)\n",
    "    return diff"
   ]
  },
  {
   "cell_type": "code",
   "execution_count": 12,
   "metadata": {},
   "outputs": [
    {
     "data": {
      "text/plain": [
       "{'good to have': {'aircraft maintenance',\n",
       "  'b',\n",
       "  'business administration',\n",
       "  'c',\n",
       "  'construction',\n",
       "  'critical thinking',\n",
       "  'drawing',\n",
       "  'filing',\n",
       "  'inquiry',\n",
       "  'inventory control',\n",
       "  'investigation',\n",
       "  'leadership',\n",
       "  'm',\n",
       "  'marketing',\n",
       "  'microsoft office',\n",
       "  'microsoft word',\n",
       "  'negotiation',\n",
       "  'planning',\n",
       "  'process improvement',\n",
       "  'procurement',\n",
       "  'project management',\n",
       "  'purchasing',\n",
       "  'quality assurance',\n",
       "  'quality control',\n",
       "  'r',\n",
       "  'reduction',\n",
       "  'requisition',\n",
       "  'safety training',\n",
       "  'scheduling',\n",
       "  'security clearance',\n",
       "  'source',\n",
       "  'supervision',\n",
       "  'test equipment',\n",
       "  'time management',\n",
       "  'track',\n",
       "  'tracking'},\n",
       " 'recommended': set(),\n",
       " 'strongly recommended': set(),\n",
       " 'critical': set(),\n",
       " 'fulfilled': {'aviation',\n",
       "  'customer service',\n",
       "  'installation',\n",
       "  'inventory management',\n",
       "  'logistics',\n",
       "  'management',\n",
       "  'research',\n",
       "  'troubleshooting'}}"
      ]
     },
     "execution_count": 12,
     "metadata": {},
     "output_type": "execute_result"
    }
   ],
   "source": [
    "skill_gap_identification_peers(skills[31605080], skills_required['AVIATION'])"
   ]
  }
 ],
 "metadata": {
  "kernelspec": {
   "display_name": "Python 3",
   "language": "python",
   "name": "python3"
  },
  "language_info": {
   "codemirror_mode": {
    "name": "ipython",
    "version": 3
   },
   "file_extension": ".py",
   "mimetype": "text/x-python",
   "name": "python",
   "nbconvert_exporter": "python",
   "pygments_lexer": "ipython3",
   "version": "3.10.8"
  },
  "orig_nbformat": 4,
  "vscode": {
   "interpreter": {
    "hash": "c64ed8c669f425495e1d5a2fc914d4b3fc5bfa5a9e06f8663c5733f83a88b100"
   }
  }
 },
 "nbformat": 4,
 "nbformat_minor": 2
}
