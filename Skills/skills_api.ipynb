{
 "cells": [
  {
   "cell_type": "code",
   "execution_count": 5,
   "metadata": {},
   "outputs": [],
   "source": [
    "import json\n",
    "import requests\n",
    "import numpy as np\n",
    "import pandas as pd\n",
    "from pandas.io.json import json_normalize"
   ]
  },
  {
   "cell_type": "code",
   "execution_count": null,
   "metadata": {},
   "outputs": [],
   "source": [
    "url = \"https://auth.emsicloud.com/connect/token\"\n",
    "\n",
    "payload = \"client_id=<CLIENT_ID>&client_secret=<CLIENT_SECRET>&grant_type=client_credentials&scope=emsi_open\"\n",
    "headers = {'Content-Type': 'application/x-www-form-urlencoded'}\n",
    "\n",
    "response = requests.request(\"POST\", url, data=payload, headers=headers)\n",
    "\n",
    "print(response.text)"
   ]
  },
  {
   "cell_type": "code",
   "execution_count": 6,
   "metadata": {},
   "outputs": [],
   "source": [
    "access_token = \"<access_token>\"\n",
    "\n",
    "def extract_skills_list():\n",
    "  all_skills_endpoint = \"https://emsiservices.com/skills/versions/latest/skills\" # List of all skills endpoint\n",
    "  auth = \"Authorization: Bearer \" + access_token # Auth string including access token from above\n",
    "  headers = {'authorization': auth} # headers\n",
    "  response = requests.request(\"GET\", all_skills_endpoint, headers=headers) # response\n",
    "  response = response.json()['data'] # the data\n",
    "\n",
    "  all_skills_df = pd.DataFrame(json_normalize(response)) # Where response is a JSON object drilled down to the level of 'data' key\n",
    "  all_skills_df.to_excel('all_skills_emsi.xlsx')"
   ]
  },
  {
   "cell_type": "code",
   "execution_count": 7,
   "metadata": {},
   "outputs": [
    {
     "name": "stderr",
     "output_type": "stream",
     "text": [
      "C:\\Users\\wongy\\AppData\\Local\\Temp\\ipykernel_11428\\2487689776.py:10: FutureWarning: pandas.io.json.json_normalize is deprecated, use pandas.json_normalize instead.\n",
      "  all_skills_df = pd.DataFrame(json_normalize(response)) # Where response is a JSON object drilled down to the level of 'data' key\n"
     ]
    }
   ],
   "source": [
    "extract_skills_list()"
   ]
  }
 ],
 "metadata": {
  "kernelspec": {
   "display_name": "Python 3",
   "language": "python",
   "name": "python3"
  },
  "language_info": {
   "codemirror_mode": {
    "name": "ipython",
    "version": 3
   },
   "file_extension": ".py",
   "mimetype": "text/x-python",
   "name": "python",
   "nbconvert_exporter": "python",
   "pygments_lexer": "ipython3",
   "version": "3.10.8"
  },
  "orig_nbformat": 4,
  "vscode": {
   "interpreter": {
    "hash": "c64ed8c669f425495e1d5a2fc914d4b3fc5bfa5a9e06f8663c5733f83a88b100"
   }
  }
 },
 "nbformat": 4,
 "nbformat_minor": 2
}
