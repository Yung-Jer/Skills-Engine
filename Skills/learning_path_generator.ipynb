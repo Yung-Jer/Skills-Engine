{
 "cells": [
  {
   "attachments": {},
   "cell_type": "markdown",
   "metadata": {},
   "source": [
    "# Import Libraries"
   ]
  },
  {
   "cell_type": "code",
   "execution_count": 1,
   "metadata": {},
   "outputs": [],
   "source": [
    "import re\n",
    "import pandas as pd\n",
    "import numpy as np\n",
    "from gensim.models.doc2vec import Doc2Vec, TaggedDocument\n",
    "import spacy\n",
    "import multiprocessing\n",
    "from spacy.tokenizer import Tokenizer"
   ]
  },
  {
   "cell_type": "code",
   "execution_count": 5,
   "metadata": {},
   "outputs": [
    {
     "data": {
      "text/html": [
       "<div>\n",
       "<style scoped>\n",
       "    .dataframe tbody tr th:only-of-type {\n",
       "        vertical-align: middle;\n",
       "    }\n",
       "\n",
       "    .dataframe tbody tr th {\n",
       "        vertical-align: top;\n",
       "    }\n",
       "\n",
       "    .dataframe thead th {\n",
       "        text-align: right;\n",
       "    }\n",
       "</style>\n",
       "<table border=\"1\" class=\"dataframe\">\n",
       "  <thead>\n",
       "    <tr style=\"text-align: right;\">\n",
       "      <th></th>\n",
       "      <th>productId</th>\n",
       "      <th>Marketing Name</th>\n",
       "      <th>Outcome Description</th>\n",
       "      <th>jobFamily</th>\n",
       "      <th>competencyLevel</th>\n",
       "    </tr>\n",
       "  </thead>\n",
       "  <tbody>\n",
       "    <tr>\n",
       "      <th>0</th>\n",
       "      <td>1</td>\n",
       "      <td>Introduction to ERP Systems (SAP)</td>\n",
       "      <td>Software Design &amp; Development Introduction to ...</td>\n",
       "      <td>Software Design &amp; Development</td>\n",
       "      <td>4 - Specialist Level</td>\n",
       "    </tr>\n",
       "    <tr>\n",
       "      <th>1</th>\n",
       "      <td>101</td>\n",
       "      <td>Express ERP - HCM</td>\n",
       "      <td>Software Design &amp; Development Express ERP - HC...</td>\n",
       "      <td>Software Design &amp; Development</td>\n",
       "      <td>4 - Specialist Level</td>\n",
       "    </tr>\n",
       "    <tr>\n",
       "      <th>2</th>\n",
       "      <td>102</td>\n",
       "      <td>Express ERP - SD</td>\n",
       "      <td>Software Design &amp; Development Express ERP - SD...</td>\n",
       "      <td>Software Design &amp; Development</td>\n",
       "      <td>4 - Specialist Level</td>\n",
       "    </tr>\n",
       "    <tr>\n",
       "      <th>3</th>\n",
       "      <td>103</td>\n",
       "      <td>Express ERP - FI</td>\n",
       "      <td>Software Design &amp; Development Express ERP - FI...</td>\n",
       "      <td>Software Design &amp; Development</td>\n",
       "      <td>4 - Specialist Level</td>\n",
       "    </tr>\n",
       "    <tr>\n",
       "      <th>4</th>\n",
       "      <td>104</td>\n",
       "      <td>Express ERP - MM</td>\n",
       "      <td>Software Design &amp; Development Express ERP - MM...</td>\n",
       "      <td>Software Design &amp; Development</td>\n",
       "      <td>4 - Specialist Level</td>\n",
       "    </tr>\n",
       "    <tr>\n",
       "      <th>...</th>\n",
       "      <td>...</td>\n",
       "      <td>...</td>\n",
       "      <td>...</td>\n",
       "      <td>...</td>\n",
       "      <td>...</td>\n",
       "    </tr>\n",
       "    <tr>\n",
       "      <th>1175</th>\n",
       "      <td>16002</td>\n",
       "      <td>Artificial  Intelligence</td>\n",
       "      <td>Infrastructure Architecture Artificial  Intell...</td>\n",
       "      <td>Infrastructure Architecture</td>\n",
       "      <td>4 - Specialist Level</td>\n",
       "    </tr>\n",
       "    <tr>\n",
       "      <th>1176</th>\n",
       "      <td>16003</td>\n",
       "      <td>New Hire-IT System Administrator</td>\n",
       "      <td>Cloud Computing New Hire-IT System Administrat...</td>\n",
       "      <td>Cloud Computing</td>\n",
       "      <td>4 - Specialist Level</td>\n",
       "    </tr>\n",
       "    <tr>\n",
       "      <th>1177</th>\n",
       "      <td>16004</td>\n",
       "      <td>New Hire and Redeployment – Infocomm Sales and...</td>\n",
       "      <td>Sales and Marketing New Hire and Redeployment ...</td>\n",
       "      <td>Sales and Marketing</td>\n",
       "      <td>4 - Specialist Level</td>\n",
       "    </tr>\n",
       "    <tr>\n",
       "      <th>1178</th>\n",
       "      <td>16005</td>\n",
       "      <td>Digital Fluency for All​</td>\n",
       "      <td>Strategy and Architecture Digital Fluency for ...</td>\n",
       "      <td>Strategy and Architecture</td>\n",
       "      <td>4 - Specialist Level</td>\n",
       "    </tr>\n",
       "    <tr>\n",
       "      <th>1179</th>\n",
       "      <td>16101</td>\n",
       "      <td>New Hire &amp; Redeployment - Data Analyst</td>\n",
       "      <td>Business Analytics New Hire &amp; Redeployment - D...</td>\n",
       "      <td>Business Analytics</td>\n",
       "      <td>4 - Specialist Level</td>\n",
       "    </tr>\n",
       "  </tbody>\n",
       "</table>\n",
       "<p>1180 rows × 5 columns</p>\n",
       "</div>"
      ],
      "text/plain": [
       "      productId                                     Marketing Name  \\\n",
       "0             1                  Introduction to ERP Systems (SAP)   \n",
       "1           101                                  Express ERP - HCM   \n",
       "2           102                                   Express ERP - SD   \n",
       "3           103                                   Express ERP - FI   \n",
       "4           104                                   Express ERP - MM   \n",
       "...         ...                                                ...   \n",
       "1175      16002                           Artificial  Intelligence   \n",
       "1176      16003                   New Hire-IT System Administrator   \n",
       "1177      16004  New Hire and Redeployment – Infocomm Sales and...   \n",
       "1178      16005                           Digital Fluency for All​   \n",
       "1179      16101             New Hire & Redeployment - Data Analyst   \n",
       "\n",
       "                                    Outcome Description  \\\n",
       "0     Software Design & Development Introduction to ...   \n",
       "1     Software Design & Development Express ERP - HC...   \n",
       "2     Software Design & Development Express ERP - SD...   \n",
       "3     Software Design & Development Express ERP - FI...   \n",
       "4     Software Design & Development Express ERP - MM...   \n",
       "...                                                 ...   \n",
       "1175  Infrastructure Architecture Artificial  Intell...   \n",
       "1176  Cloud Computing New Hire-IT System Administrat...   \n",
       "1177  Sales and Marketing New Hire and Redeployment ...   \n",
       "1178  Strategy and Architecture Digital Fluency for ...   \n",
       "1179  Business Analytics New Hire & Redeployment - D...   \n",
       "\n",
       "                          jobFamily       competencyLevel  \n",
       "0     Software Design & Development  4 - Specialist Level  \n",
       "1     Software Design & Development  4 - Specialist Level  \n",
       "2     Software Design & Development  4 - Specialist Level  \n",
       "3     Software Design & Development  4 - Specialist Level  \n",
       "4     Software Design & Development  4 - Specialist Level  \n",
       "...                             ...                   ...  \n",
       "1175    Infrastructure Architecture  4 - Specialist Level  \n",
       "1176                Cloud Computing  4 - Specialist Level  \n",
       "1177            Sales and Marketing  4 - Specialist Level  \n",
       "1178      Strategy and Architecture  4 - Specialist Level  \n",
       "1179             Business Analytics  4 - Specialist Level  \n",
       "\n",
       "[1180 rows x 5 columns]"
      ]
     },
     "execution_count": 5,
     "metadata": {},
     "output_type": "execute_result"
    }
   ],
   "source": [
    "courses = pd.read_excel('Courses.xlsx')\n",
    "courses['Outcome Description'] = courses['jobFamily'] + \" \" \\\n",
    "                                + courses['Marketing Name'] + \" \" \\\n",
    "                                + courses['courseName'] + \" \" \\\n",
    "                                + courses ['moduleName'] + \" \" \\\n",
    "                                + courses['courseDesc'] + \" \" \\\n",
    "                                + courses['Outcome Description'] + \" \" \\\n",
    "                                + courses['competencyUnitDesc']\n",
    "courses = courses[['productId', 'Marketing Name', 'Outcome Description', 'jobFamily', 'competencyLevel']]\n",
    "courses"
   ]
  },
  {
   "cell_type": "code",
   "execution_count": 6,
   "metadata": {},
   "outputs": [
    {
     "data": {
      "text/plain": [
       "8"
      ]
     },
     "execution_count": 6,
     "metadata": {},
     "output_type": "execute_result"
    }
   ],
   "source": [
    "multiprocessing.cpu_count()"
   ]
  },
  {
   "attachments": {},
   "cell_type": "markdown",
   "metadata": {},
   "source": [
    "# Data Preprocessing"
   ]
  },
  {
   "cell_type": "code",
   "execution_count": 7,
   "metadata": {},
   "outputs": [],
   "source": [
    "nlp = spacy.load('en_core_web_sm')\n",
    "# Tokenize words only with the whitespace rule\n",
    "# N-grams will no longer be treated as 'N' and '-grams'\n",
    "nlp.tokenizer = Tokenizer(nlp.vocab)\n",
    "\n",
    "def preprocess(txt):\n",
    "    txt = txt.lower()\n",
    "    txt = re.sub(\"'\", \"\", txt) # Remove apostrophe\n",
    "    txt = re.sub(\"’\", \"\", txt) # Remove apostrophe\n",
    "    txt = re.sub('<.*?>', '', txt)\n",
    "    txt = re.sub('::', ' ', txt)\n",
    "    txt = re.sub('&nbsp', '', txt)\n",
    "    txt = re.sub('\\\\t|\\\\n', ' ', txt)\n",
    "    txt = re.sub('[^a-zA-Z]', ' ', txt)\n",
    "    txt = re.sub(' +', ' ', txt)\n",
    "    return txt\n",
    "\n",
    "def tagcol_paragraph_embeddings_features(train_data):\n",
    "\n",
    "    # Expects a dataframe with a 'Outcome Description' column\n",
    "    train_data_values = train_data['Outcome Description'].values\n",
    "    \n",
    "    # Remember to use token.text to get the raw string, otherwise doc2vec cannot build vocabulary\n",
    "    columns = [TaggedDocument([token.text for token in nlp(text) if token is not token.is_stop] , [i]) for i, text in enumerate(train_data_values)]\n",
    "    \n",
    "    return columns"
   ]
  },
  {
   "cell_type": "code",
   "execution_count": 12,
   "metadata": {},
   "outputs": [],
   "source": [
    "courses['Outcome Description'] = courses['Outcome Description'].astype(str)\n",
    "courses['Outcome Description'] = courses['Outcome Description'].apply(preprocess)"
   ]
  },
  {
   "attachments": {},
   "cell_type": "markdown",
   "metadata": {},
   "source": [
    "# Train Doc2Vec Model"
   ]
  },
  {
   "cell_type": "code",
   "execution_count": 15,
   "metadata": {},
   "outputs": [],
   "source": [
    "corpus = tagcol_paragraph_embeddings_features(courses)"
   ]
  },
  {
   "cell_type": "code",
   "execution_count": 16,
   "metadata": {},
   "outputs": [],
   "source": [
    "model = Doc2Vec(dm=0, vector_size=50, workers=multiprocessing.cpu_count(), min_count=2, epochs=100, hs=1, negative=0)"
   ]
  },
  {
   "cell_type": "code",
   "execution_count": 17,
   "metadata": {},
   "outputs": [],
   "source": [
    "model.build_vocab(corpus)"
   ]
  },
  {
   "cell_type": "code",
   "execution_count": 18,
   "metadata": {},
   "outputs": [],
   "source": [
    "model.train(corpus, total_examples=model.corpus_count, epochs=model.epochs)"
   ]
  },
  {
   "cell_type": "code",
   "execution_count": 19,
   "metadata": {},
   "outputs": [],
   "source": [
    "vector = model.infer_vector(\n",
    "    ['marketing',\n",
    "     'microsoft office',\n",
    "     'microsoft word',\n",
    "     'negotiation',\n",
    "     'planning',\n",
    "     'process improvement',\n",
    "     'procurement',\n",
    "     'project management',\n",
    "     'purchasing',\n",
    "     'quality assurance',\n",
    "     'quality control'])"
   ]
  },
  {
   "cell_type": "code",
   "execution_count": 20,
   "metadata": {},
   "outputs": [
    {
     "data": {
      "text/plain": [
       "[(756, 0.4596649408340454),\n",
       " (822, 0.4580027163028717),\n",
       " (57, 0.45430517196655273),\n",
       " (244, 0.45420798659324646),\n",
       " (731, 0.42308980226516724),\n",
       " (115, 0.41906335949897766),\n",
       " (94, 0.4159999489784241),\n",
       " (124, 0.41428330540657043),\n",
       " (62, 0.4098603427410126),\n",
       " (730, 0.40189942717552185)]"
      ]
     },
     "execution_count": 20,
     "metadata": {},
     "output_type": "execute_result"
    }
   ],
   "source": [
    "res = model.dv.most_similar([vector], topn=10)\n",
    "res"
   ]
  },
  {
   "cell_type": "code",
   "execution_count": 22,
   "metadata": {},
   "outputs": [],
   "source": [
    "course_unique = set()\n",
    "course_list = []\n",
    "for i, prob in res:\n",
    "    if courses.loc[i, 'Marketing Name'] not in course_unique:\n",
    "        course_unique.add(courses.loc[i, 'Marketing Name'])\n",
    "        course_list.append((courses.loc[i, 'productId'], courses.loc[i, 'Marketing Name'], courses.loc[i, 'competencyLevel']))\n"
   ]
  },
  {
   "cell_type": "code",
   "execution_count": 23,
   "metadata": {},
   "outputs": [
    {
     "data": {
      "text/plain": [
       "[(8801, 'Omni Channel Commerce(OCC)', '3 - Entrant Level'),\n",
       " (10110, 'Omnicom Sales & Marketing  ', '3 - Entrant Level'),\n",
       " (318, 'ERP Application Functional (SAP MM)', '4 - Specialist Level'),\n",
       " (7507, 'Intermediate SAP - Materials Management', '4 - Specialist Level'),\n",
       " (502, 'Materials Management (SAP MM)', '4 - Specialist Level'),\n",
       " (409, 'Express ERP - MM ', '4 - Specialist Level'),\n",
       " (7506, 'Basic SAP - Materials Management', '4 - Specialist Level')]"
      ]
     },
     "execution_count": 23,
     "metadata": {},
     "output_type": "execute_result"
    }
   ],
   "source": [
    "course_list"
   ]
  }
 ],
 "metadata": {
  "kernelspec": {
   "display_name": "Python 3",
   "language": "python",
   "name": "python3"
  },
  "language_info": {
   "codemirror_mode": {
    "name": "ipython",
    "version": 3
   },
   "file_extension": ".py",
   "mimetype": "text/x-python",
   "name": "python",
   "nbconvert_exporter": "python",
   "pygments_lexer": "ipython3",
   "version": "3.10.8"
  },
  "orig_nbformat": 4,
  "vscode": {
   "interpreter": {
    "hash": "c64ed8c669f425495e1d5a2fc914d4b3fc5bfa5a9e06f8663c5733f83a88b100"
   }
  }
 },
 "nbformat": 4,
 "nbformat_minor": 2
}
